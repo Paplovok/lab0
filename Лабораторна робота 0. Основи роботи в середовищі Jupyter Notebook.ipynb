{
 "cells": [
  {
   "cell_type": "markdown",
   "id": "ca74752f-7c70-433c-b291-1a21dc77bc9e",
   "metadata": {},
   "source": [
    "# <span style=\"color:blue\"> Чеська</span><span style=\"color:red\"> Республіка</span>\n",
    "\n",
    "## *Загальні відомості*\n",
    "\n",
    "Чеська Республіка (Чехія) – це країна в Центральній Європі, відома своєю історією, культурною спадщиною та мальовничими пейзажами.\n",
    "\n",
    "### *Площа та населення*\n",
    "- **Площа**: 78,866 км²\n",
    "- **Населення**: близько 10,7 млн осіб\n",
    "\n",
    "### *Державний устрій*\n",
    "Чеська Республіка є **парламентською республікою**.\n",
    "\n",
    "#### *Президент*\n",
    "- Прямі вибори, строк на посаді – 5 років.\n",
    "  \n",
    "#### *Парламент*\n",
    "Парламент складається з двох палат:\n",
    "- **Палата депутатів** (200 членів)\n",
    "- **Сенат** (81 член)\n",
    "\n",
    "---\n",
    "\n",
    "## Видатні персоналії\n",
    "\n",
    "### **1. Карел Чапек**\n",
    "- Видатний чеський письменник, автор таких творів, як \"Війна світів\" та \"Роботи\".\n",
    "\n",
    "### **2. Томаш Гарріг Масарик**\n",
    "- Перший президент Чеської Республіки, один з основоположників незалежної Чехії.\n",
    "\n",
    "### **3. Мартін Бендер**\n",
    "- Чеський фізик, лауреат Нобелівської премії.\n",
    "\n",
    "---\n",
    "\n",
    "## Пам'ятки культури та природи\n",
    "\n",
    "### Замки\n",
    "- **Карловий замок**\n",
    "- **Замок Прага**\n",
    "\n",
    "### Природні пам'ятки\n",
    "- **Національний парк Шумава**\n",
    "- **Чеський рай** – регіон, відомий своїми скелястими утвореннями.\n",
    "\n",
    "### Культура\n",
    "Чехія славиться своїм **пивом**, яке має давні традиції, і **музичними фестивалями**.\n",
    "\n",
    "---\n",
    "\n",
    "## Таблиця важливих міст Чеської Республіки\n",
    "\n",
    "| Місто         | Населення | Визначні пам'ятки |\n",
    "|---------------|-----------|-------------------|\n",
    "| Прага         | 1,3 млн   | Карлів міст, Празький Град |\n",
    "| Брно          | 380,000   | Брненський замок, Собор святого Петра і Павла |\n",
    "| Острава       | 290,000   | Музей науки і техніки |\n",
    "\n",
    "---\n",
    "\n",
    "## Картинки\n",
    "\n",
    "### Прага\n",
    "<img src=\"https://upload.wikimedia.org/wikipedia/commons/thumb/f/fb/Prague_Collage_2017.png/800px-Prague_Collage_2017.png\" alt=\"Прага\" width=30%>\n",
    "\n",
    "### Замок Карлштейн\n",
    "<img src=\"https://upload.wikimedia.org/wikipedia/commons/thumb/c/c9/Burg_Karlstein_-_Karl%C5%A1tejn_-_panoramio.jpg/1280px-Burg_Karlstein_-_Karl%C5%A1tejn_-_panoramio.jpg\" alt=\"Замок Карлштейн\" width=30%>\n",
    "\n",
    "### Природа Чехії\n",
    "<img src=\"https://upload.wikimedia.org/wikipedia/commons/thumb/5/5f/Ceskyraj_hrubaskala.JPG/1280px-Ceskyraj_hrubaskala.JPG\" alt=\"Чехія природа\" width=30%>\n",
    "\n",
    "---\n",
    "\n",
    "## Гіперпосилання\n",
    "\n",
    "[Вікіпедія Чеської Республіки](https://uk.wikipedia.org/wiki/Чехія)\n",
    "\n",
    "---\n",
    "\n",
    "## Флаг Чеської Республіки\n",
    "\n",
    "<div class=\"flag\">\n",
    "    <svg width=\"300\" height=\"200\" xmlns=\"http://www.w3.org/2000/svg\">\n",
    "        <!-- Білий прямокутник -->\n",
    "        <rect width=\"300\" height=\"100\" fill=\"white\" />\n",
    "        <!-- Червоний прямокутник -->\n",
    "        <rect y=\"100\" width=\"300\" height=\"100\" fill=\"red\" />\n",
    "        <!-- Синій трикутник -->\n",
    "        <polygon points=\"0,0 150,100 0,200\" fill=\"blue\" />\n",
    "    </svg>\n",
    "</div>"
   ]
  },
  {
   "cell_type": "code",
   "execution_count": 1,
   "id": "81d3cb80",
   "metadata": {},
   "outputs": [],
   "source": [
    "def task_9():\n",
    "    try:\n",
    "        # Ввод списка\n",
    "        data = input(\"Введите список чисел через пробел: \")\n",
    "        numbers = list(map(int, data.split()))\n",
    "\n",
    "        # Проверка на непростые числа\n",
    "        def is_composite(n):\n",
    "            if n < 4:  # Числа меньше 4 не являются составными\n",
    "                return False\n",
    "            for i in range(2, int(n**0.5) + 1):\n",
    "                if n % i == 0:\n",
    "                    return True\n",
    "            return False\n",
    "\n",
    "        # Фильтрация и сортировка\n",
    "        result = sorted([num for num in numbers if is_composite(num)], reverse=True)\n",
    "        return result\n",
    "    except ValueError:\n",
    "        return \"Ошибка: В списке присутствуют некорректные значения!\""
   ]
  },
  {
   "cell_type": "code",
   "execution_count": 2,
   "id": "89ba6682",
   "metadata": {},
   "outputs": [
    {
     "name": "stdin",
     "output_type": "stream",
     "text": [
      "Введите список чисел через пробел:  432 6543 123 423\n"
     ]
    },
    {
     "name": "stdout",
     "output_type": "stream",
     "text": [
      "[6543, 432, 423, 123]\n"
     ]
    },
    {
     "name": "stdin",
     "output_type": "stream",
     "text": [
      "Введите список чисел через пробел:  432 6543 123 423\n"
     ]
    },
    {
     "name": "stdout",
     "output_type": "stream",
     "text": [
      "[6543, 432, 423, 123]\n"
     ]
    }
   ],
   "source": [
    "# Пример 1\n",
    "print(task_9())  # Ввод: 3 12 15 7 11 35 18\n",
    "\n",
    "# Пример 2\n",
    "print(task_9())  # Ввод: 0 34 2 1 15 22 4 23 6"
   ]
  },
  {
   "cell_type": "code",
   "execution_count": 11,
   "id": "772b0dd5",
   "metadata": {},
   "outputs": [
    {
     "name": "stdout",
     "output_type": "stream",
     "text": [
      "Reinitialized existing Git repository in C:/Users/timos/.git/\n"
     ]
    },
    {
     "name": "stderr",
     "output_type": "stream",
     "text": [
      "warning: in the working copy of 'Р›Р°Р±РѕСЂР°С‚РѕСЂРЅР° СЂРѕР±РѕС‚Р° 0. РћСЃРЅРѕРІРё СЂРѕР±РѕС‚Рё РІ СЃРµСЂРµРґРѕРІРёС‰С– Jupyter Notebook.ipynb', LF will be replaced by CRLF the next time Git touches it\n"
     ]
    },
    {
     "name": "stdout",
     "output_type": "stream",
     "text": [
      "[main 8951d9e] Added solution for task 9\n",
      " 1 file changed, 7 insertions(+), 64 deletions(-)\n"
     ]
    },
    {
     "name": "stderr",
     "output_type": "stream",
     "text": [
      "error: cannot pull with rebase: You have unstaged changes.\n",
      "error: Please commit or stash them.\n",
      "error: src refspec # does not match any\n",
      "error: src refspec РћС‚РїСЂР°РІРёС‚СЊ does not match any\n",
      "error: src refspec РёР·РјРµРЅРµРЅРёСЏ does not match any\n",
      "error: src refspec РЅР° does not match any\n",
      "error: src refspec СѓРґР°Р»РµРЅРЅС‹Р№ does not match any\n",
      "error: src refspec СЂРµРїРѕР·РёС‚РѕСЂРёР№ does not match any\n",
      "error: failed to push some refs to 'https://github.com/Paplovok/lab0.git'\n"
     ]
    }
   ],
   "source": [
    "!git config --global user.name \"Paplovok\"\n",
    "!git config --global user.email \"timoshka.kopachov@gmail.com\"\n",
    "!git init\n",
    "!git add \"Лабораторна робота 0. Основи роботи в середовищі Jupyter Notebook.ipynb\"\n",
    "!git commit -m \"Added solution for task 9\"\n",
    "!git branch -M main\n",
    "!git remote remove origin\n",
    "!git remote add origin https://github.com/Paplovok/lab0.git\n",
    "!git pull origin main --rebase  # Подтянуть изменения с удаленного репозитория\n",
    "!git push -u origin main       # Отправить изменения на удаленный репозиторий"
   ]
  }
 ],
 "metadata": {
  "kernelspec": {
   "display_name": "Python 3 (ipykernel)",
   "language": "python",
   "name": "python3"
  },
  "language_info": {
   "codemirror_mode": {
    "name": "ipython",
    "version": 3
   },
   "file_extension": ".py",
   "mimetype": "text/x-python",
   "name": "python",
   "nbconvert_exporter": "python",
   "pygments_lexer": "ipython3",
   "version": "3.13.1"
  }
 },
 "nbformat": 4,
 "nbformat_minor": 5
}
