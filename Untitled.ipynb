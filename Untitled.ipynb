{
 "cells": [
  {
   "cell_type": "markdown",
   "id": "02f3dacf",
   "metadata": {},
   "source": [
    "# Чехия\n",
    "\n",
    "## Загальна інформація\n",
    "- **Площа:** 78,866 км²\n",
    "- **Населення:** ~10,7 млн\n",
    "- **Державний устрій:** Парламентська республіка\n",
    "\n",
    "## Видатні персоналії\n",
    "- *Ян Гус*\n",
    "- **Агнеса Чешська**\n",
    "- Томаш Масарик\n",
    "\n",
    "## Пам'ятки культури та природи\n",
    "1. Празький Град\n",
    "2. Карлов міст\n",
    "3. Кутна Гора\n",
    "\n",
    "### Таблиця цікавих фактів\n",
    "\n",
    "| Категорія          | Деталі                        |\n",
    "|---------------------|-------------------------------|\n",
    "| Офіційна мова      | Чеська                       |\n",
    "| Відомий напій      | Пиво                          |\n",
    "| Відомий курорт     | Карлові Вари                  |\n",
    "\n",
    "---\n",
    "\n",
    "**Географія Чехії:**\n",
    "<svg width=\"400\" height=\"200\">\n",
    "  <rect width=\"400\" height=\"200\" style=\"fill:blue;\" />\n",
    "  <text x=\"200\" y=\"100\" fill=\"white\" text-anchor=\"middle\" font-size=\"20\">Прапор Чехії</text>\n",
    "</svg>"
   ]
  },
  {
   "cell_type": "code",
   "execution_count": 1,
   "id": "9b3c8766",
   "metadata": {},
   "outputs": [],
   "source": [
    "def task_9():\n",
    "    try:\n",
    "        # Ввод списка\n",
    "        data = input(\"Введите список чисел через пробел: \")\n",
    "        numbers = list(map(int, data.split()))\n",
    "\n",
    "        # Проверка на непростые числа\n",
    "        def is_composite(n):\n",
    "            if n < 4:  # Числа меньше 4 не являются составными\n",
    "                return False\n",
    "            for i in range(2, int(n**0.5) + 1):\n",
    "                if n % i == 0:\n",
    "                    return True\n",
    "            return False\n",
    "\n",
    "        # Фильтрация и сортировка\n",
    "        result = sorted([num for num in numbers if is_composite(num)], reverse=True)\n",
    "        return result\n",
    "    except ValueError:\n",
    "        return \"Ошибка: В списке присутствуют некорректные значения!\""
   ]
  },
  {
   "cell_type": "code",
   "execution_count": 2,
   "id": "e30e66a1",
   "metadata": {},
   "outputs": [
    {
     "name": "stdout",
     "output_type": "stream",
     "text": [
      "Введите список чисел через пробел:  0 34 2 1 15 22 4 23 6\n",
      "[34, 22, 15, 6, 4]\n"
     ]
    }
   ],
   "source": [
    "print(task_9())  # Ввод: 0 34 2 1 15 22 4 23 6"
   ]
  },
  {
   "cell_type": "code",
   "execution_count": 3,
   "id": "78ffa02c",
   "metadata": {},
   "outputs": [
    {
     "name": "stdout",
     "output_type": "stream",
     "text": [
      "Reinitialized existing Git repository in C:/Users/timos/.git/\n"
     ]
    },
    {
     "name": "stderr",
     "output_type": "stream",
     "text": [
      "warning: in the working copy of 'Untitled.ipynb', LF will be replaced by CRLF the next time Git touches it\n"
     ]
    },
    {
     "name": "stdout",
     "output_type": "stream",
     "text": [
      "[main 6d521ea] Added solution for task 9\n",
      " 1 file changed, 8 insertions(+), 40 deletions(-)\n",
      "branch 'main' set up to track 'origin/main'.\n"
     ]
    },
    {
     "name": "stderr",
     "output_type": "stream",
     "text": [
      "To https://github.com/Paplovok/lab0.git\n",
      "   5506c28..6d521ea  main -> main\n"
     ]
    }
   ],
   "source": [
    "!git config --global user.name \"Paplovok\"\n",
    "!git config --global user.email \"timoshka.kopachov@gmail.com\"\n",
    "!git init\n",
    "!git add Untitled.ipynb\n",
    "!git commit -m \"Added solution for task 9\"\n",
    "!git branch -M main\n",
    "!git remote remove origin\n",
    "!git remote add origin https://github.com/Paplovok/lab0.git\n",
    "!git push -u origin main"
   ]
  }
 ],
 "metadata": {
  "kernelspec": {
   "display_name": "Python 3 (ipykernel)",
   "language": "python",
   "name": "python3"
  },
  "language_info": {
   "codemirror_mode": {
    "name": "ipython",
    "version": 3
   },
   "file_extension": ".py",
   "mimetype": "text/x-python",
   "name": "python",
   "nbconvert_exporter": "python",
   "pygments_lexer": "ipython3",
   "version": "3.7.1"
  }
 },
 "nbformat": 4,
 "nbformat_minor": 5
}
