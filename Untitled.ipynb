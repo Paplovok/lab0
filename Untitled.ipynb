{
 "cells": [
  {
   "cell_type": "markdown",
   "id": "ed1860a5",
   "metadata": {},
   "source": [
    "# Чеська Республіка\n",
    "\n",
    "## Загальні відомості\n",
    "Чеська Республіка, або Чехія, є країною в Центральній Європі.\n",
    "\n",
    "**Площа:** 78 866 км²  \n",
    "*Населення:* 10,7 мільйона осіб\n",
    "\n",
    "### Географія\n",
    "Чехія межує з Німеччиною на заході, Польщею на півночі, Словаччиною на сході та Австрією на півдні.\n",
    "\n",
    "### Державний устрій\n",
    "Чехія є **парламентською республікою**.\n",
    "\n",
    "### Видатні персоналії\n",
    "1. **Антонін Дворжак** - композитор\n",
    "2. **Вацлав Гавел** - політик і письменник\n",
    "\n",
    "### Пам'ятки культури та природи\n",
    "1. Пам'ятки культури\n",
    "   - Староміська площа в Празі\n",
    "   - Карлов міст\n",
    "2. Природні пам'ятки\n",
    "   - Чеський Рай\n",
    "   - Національний парк Шумава\n",
    "\n",
    "### Таблиця\n",
    "| Параметр          | Значення         |\n",
    "|-------------------|------------------|\n",
    "| Площа            | 78 866 км²       |\n",
    "| Населення        | 10,7 млн осіб    |\n",
    "| Столиця          | Прага            |\n",
    "\n",
    "### Флаг Чехії\n",
    "<div class=\"flag\">\n",
    "    <svg width=\"300\" height=\"200\" xmlns=\"http://www.w3.org/2000/svg\">\n",
    "        <!-- Білий прямокутник -->\n",
    "        <rect width=\"300\" height=\"100\" fill=\"white\" />\n",
    "        <!-- Червоний прямокутник -->\n",
    "        <rect y=\"100\" width=\"300\" height=\"100\" fill=\"red\" />\n",
    "        <!-- Синій трикутник -->\n",
    "        <polygon points=\"0,0 150,100 0,200\" fill=\"blue\" />\n",
    "    </svg>\n",
    "</div>"
   ]
  },
  {
   "cell_type": "code",
   "execution_count": 1,
   "id": "81d3cb80",
   "metadata": {},
   "outputs": [],
   "source": [
    "def task_9():\n",
    "    try:\n",
    "        # Ввод списка\n",
    "        data = input(\"Введите список чисел через пробел: \")\n",
    "        numbers = list(map(int, data.split()))\n",
    "\n",
    "        # Проверка на непростые числа\n",
    "        def is_composite(n):\n",
    "            if n < 4:  # Числа меньше 4 не являются составными\n",
    "                return False\n",
    "            for i in range(2, int(n**0.5) + 1):\n",
    "                if n % i == 0:\n",
    "                    return True\n",
    "            return False\n",
    "\n",
    "        # Фильтрация и сортировка\n",
    "        result = sorted([num for num in numbers if is_composite(num)], reverse=True)\n",
    "        return result\n",
    "    except ValueError:\n",
    "        return \"Ошибка: В списке присутствуют некорректные значения!\""
   ]
  },
  {
   "cell_type": "code",
   "execution_count": 2,
   "id": "89ba6682",
   "metadata": {},
   "outputs": [
    {
     "name": "stdin",
     "output_type": "stream",
     "text": [
      "Введите список чисел через пробел:  432 6543 123 423\n"
     ]
    },
    {
     "name": "stdout",
     "output_type": "stream",
     "text": [
      "[6543, 432, 423, 123]\n"
     ]
    },
    {
     "name": "stdin",
     "output_type": "stream",
     "text": [
      "Введите список чисел через пробел:  432 6543 123 423\n"
     ]
    },
    {
     "name": "stdout",
     "output_type": "stream",
     "text": [
      "[6543, 432, 423, 123]\n"
     ]
    }
   ],
   "source": [
    "# Пример 1\n",
    "print(task_9())  # Ввод: 3 12 15 7 11 35 18\n",
    "\n",
    "# Пример 2\n",
    "print(task_9())  # Ввод: 0 34 2 1 15 22 4 23 6"
   ]
  },
  {
   "cell_type": "code",
   "execution_count": 3,
   "id": "772b0dd5",
   "metadata": {},
   "outputs": [
    {
     "name": "stdout",
     "output_type": "stream",
     "text": [
      "Reinitialized existing Git repository in C:/Users/timos/.git/\n"
     ]
    },
    {
     "name": "stderr",
     "output_type": "stream",
     "text": [
      "warning: in the working copy of 'Untitled.ipynb', LF will be replaced by CRLF the next time Git touches it\n"
     ]
    },
    {
     "name": "stdout",
     "output_type": "stream",
     "text": [
      "[main 52c475b] Added solution for task 9\n",
      " 1 file changed, 30 insertions(+), 12 deletions(-)\n",
      "branch 'main' set up to track 'origin/main'.\n"
     ]
    },
    {
     "name": "stderr",
     "output_type": "stream",
     "text": [
      "To https://github.com/Paplovok/lab0.git\n",
      "   0552cc6..52c475b  main -> main\n"
     ]
    }
   ],
   "source": [
    "!git config --global user.name \"Paplovok\"\n",
    "!git config --global user.email \"timoshka.kopachov@gmail.com\"\n",
    "!git init\n",
    "!git add Untitled.ipynb\n",
    "!git commit -m \"Added solution for task 9\"\n",
    "!git branch -M main\n",
    "!git remote remove origin\n",
    "!git remote add origin https://github.com/Paplovok/lab0.git\n",
    "!git push -u origin main"
   ]
  }
 ],
 "metadata": {
  "kernelspec": {
   "display_name": "Python 3 (ipykernel)",
   "language": "python",
   "name": "python3"
  },
  "language_info": {
   "codemirror_mode": {
    "name": "ipython",
    "version": 3
   },
   "file_extension": ".py",
   "mimetype": "text/x-python",
   "name": "python",
   "nbconvert_exporter": "python",
   "pygments_lexer": "ipython3",
   "version": "3.13.1"
  }
 },
 "nbformat": 4,
 "nbformat_minor": 5
}
