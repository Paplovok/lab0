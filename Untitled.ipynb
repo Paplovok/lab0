{
 "cells": [
  {
   "cell_type": "markdown",
   "id": "76fc53b4",
   "metadata": {},
   "source": [
    "# **Чеська Республіка (Czech Republic)**\n",
    "\n",
    "## Загальна інформація\n",
    "- **Площа:** 78,865 км²  \n",
    "- **Населення:** ~10,7 млн осіб  \n",
    "- **Державний устрій:** Парламентська республіка  \n",
    "- **Офіційна мова:** Чеська  \n",
    "- **Столиця:** Прага  \n",
    "\n",
    "---\n",
    "\n",
    "## Визначні постаті\n",
    "1. **Ян Гус** – реформатор, філософ.\n",
    "2. **Антонін Дворжак** – відомий композитор.\n",
    "3. **Мілан Кундера** – письменник світового рівня.\n",
    "\n",
    "---\n",
    "\n",
    "## Культурна спадщина\n",
    "### Основні пам’ятки\n",
    "- **Прага** – Староміська площа, Карлів міст, Празький Град.\n",
    "- **Чеський Крумлов** – історичне місто під охороною ЮНЕСКО.\n",
    "- **Седлецька костниця** – костел із декораціями з людських кісток.\n",
    "\n",
    "<div style=\"border: 2px solid #0000FF; padding: 10px; background-color: #F0F8FF;\">\n",
    "    <p><b>Природні пам’ятки:</b> Карлові Вари, Чеський Рай, національний парк \"Шумава\".</p>\n",
    "</div>\n",
    "\n",
    "---\n",
    "\n",
    "## Таблиця основних даних\n",
    "\n",
    "| Показник         | Значення           |\n",
    "|-------------------|--------------------|\n",
    "| Площа            | 78,865 км²         |\n",
    "| Населення        | ~10,7 млн осіб     |\n",
    "| Столиця          | Прага              |\n",
    "| ВВП на душу      | $26,500 (2022)     |\n",
    "| Державний устрій | Парламентська республіка |\n",
    "\n",
    "---\n",
    "\n",
    "## Вкладені списки\n",
    "- **Головні річки:**\n",
    "  - Влтава\n",
    "  - Ельба\n",
    "  - Моравія  \n",
    "- **Види традиційної кухні:**\n",
    "  - Супи:\n",
    "    - Киселиця\n",
    "    - Чеський часниковий суп  \n",
    "  - Основні страви:\n",
    "    - Свічкова\n",
    "    - Вепрове коліно  \n",
    "  - Десерти:\n",
    "    - Трдельник\n",
    "    - Чеський пиріг\n",
    "\n",
    "---\n",
    "\n",
    "## Картинки\n",
    "### Прага – Карлів міст\n",
    "![Прага – Карлів міст](https://upload.wikimedia.org/wikipedia/commons/3/3e/Charles_Bridge_%28Karl%C5%AFv_most%29%2C_Prague%2C_Czech_Republic.jpg)\n",
    "\n",
    "### Національний парк \"Шумава\"\n",
    "![Шумава](https://upload.wikimedia.org/wikipedia/commons/8/87/Sumava_National_Park.jpg)\n",
    "\n",
    "---\n",
    "\n",
    "## Гіперпосилання\n",
    "- [Офіційний туристичний портал Чехії](https://www.czechtourism.com/)\n",
    "\n",
    "---\n",
    "\n",
    "## Прапор Чеської Республіки\n",
    "\n",
    "<svg width=\"300\" height=\"200\">\n",
    "  <!-- Синій трикутник -->\n",
    "  <polygon points=\"0,0 150,100 0,200\" style=\"fill:blue;\" />\n",
    "  <!-- Верхній білий прямокутник -->\n",
    "  <rect x=\"150\" y=\"0\" width=\"150\" height=\"100\" style=\"fill:white;\" />\n",
    "  <!-- Нижній червоний прямокутник -->\n",
    "  <rect x=\"150\" y=\"100\" width=\"150\" height=\"100\" style=\"fill:red;\" />\n",
    "</svg>"
   ]
  },
  {
   "cell_type": "code",
   "execution_count": 1,
   "id": "92d81197",
   "metadata": {},
   "outputs": [],
   "source": [
    "def task_9():\n",
    "    try:\n",
    "        # Ввод списка\n",
    "        data = input(\"Введите список чисел через пробел: \")\n",
    "        numbers = list(map(int, data.split()))\n",
    "\n",
    "        # Проверка на непростые числа\n",
    "        def is_composite(n):\n",
    "            if n < 4:  # Числа меньше 4 не являются составными\n",
    "                return False\n",
    "            for i in range(2, int(n**0.5) + 1):\n",
    "                if n % i == 0:\n",
    "                    return True\n",
    "            return False\n",
    "\n",
    "        # Фильтрация и сортировка\n",
    "        result = sorted([num for num in numbers if is_composite(num)], reverse=True)\n",
    "        return result\n",
    "    except ValueError:\n",
    "        return \"Ошибка: В списке присутствуют некорректные значения!\""
   ]
  },
  {
   "cell_type": "code",
   "execution_count": 2,
   "id": "40633803",
   "metadata": {},
   "outputs": [
    {
     "name": "stdout",
     "output_type": "stream",
     "text": [
      "Введите список чисел через пробел: str 12 42 634 12 63 123\n",
      "Ошибка: В списке присутствуют некорректные значения!\n",
      "Введите список чисел через пробел: 32 54 13 56\n",
      "[56, 54, 32]\n"
     ]
    }
   ],
   "source": [
    "# Пример 1\n",
    "print(task_9())  # Ввод: 3 12 15 7 11 35 18\n",
    "\n",
    "# Пример 2\n",
    "print(task_9())  # Ввод: 0 34 2 1 15 22 4 23 6"
   ]
  },
  {
   "cell_type": "code",
   "execution_count": 3,
   "id": "21890495",
   "metadata": {},
   "outputs": [
    {
     "name": "stdout",
     "output_type": "stream",
     "text": [
      "Reinitialized existing Git repository in C:/Users/timos/.git/\n"
     ]
    },
    {
     "name": "stderr",
     "output_type": "stream",
     "text": [
      "warning: in the working copy of 'Untitled.ipynb', LF will be replaced by CRLF the next time Git touches it\n"
     ]
    },
    {
     "name": "stdout",
     "output_type": "stream",
     "text": [
      "[main ff7493a] Added solution for task 9\n",
      " 1 file changed, 85 insertions(+), 31 deletions(-)\n",
      "branch 'main' set up to track 'origin/main'.\n"
     ]
    },
    {
     "name": "stderr",
     "output_type": "stream",
     "text": [
      "To https://github.com/Paplovok/lab0.git\n",
      "   1eea039..ff7493a  main -> main\n"
     ]
    }
   ],
   "source": [
    "!git config --global user.name \"Paplovok\"\n",
    "!git config --global user.email \"timoshka.kopachov@gmail.com\"\n",
    "!git init\n",
    "!git add Untitled.ipynb\n",
    "!git commit -m \"Added solution for task 9\"\n",
    "!git branch -M main\n",
    "!git remote remove origin\n",
    "!git remote add origin https://github.com/Paplovok/lab0.git\n",
    "!git push -u origin main"
   ]
  }
 ],
 "metadata": {
  "kernelspec": {
   "display_name": "Python 3 (ipykernel)",
   "language": "python",
   "name": "python3"
  },
  "language_info": {
   "codemirror_mode": {
    "name": "ipython",
    "version": 3
   },
   "file_extension": ".py",
   "mimetype": "text/x-python",
   "name": "python",
   "nbconvert_exporter": "python",
   "pygments_lexer": "ipython3",
   "version": "3.7.1"
  }
 },
 "nbformat": 4,
 "nbformat_minor": 5
}
